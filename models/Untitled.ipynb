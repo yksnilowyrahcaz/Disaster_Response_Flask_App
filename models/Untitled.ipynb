{
 "cells": [
  {
   "cell_type": "code",
   "execution_count": 1,
   "id": "240e7faf-453d-4494-a7f8-4eef9ad6f258",
   "metadata": {},
   "outputs": [
    {
     "name": "stderr",
     "output_type": "stream",
     "text": [
      "[nltk_data] Downloading package punkt to\n",
      "[nltk_data]     C:\\Users\\E079051\\AppData\\Roaming\\nltk_data...\n",
      "[nltk_data]   Package punkt is already up-to-date!\n",
      "[nltk_data] Downloading package wordnet to\n",
      "[nltk_data]     C:\\Users\\E079051\\AppData\\Roaming\\nltk_data...\n",
      "[nltk_data]   Package wordnet is already up-to-date!\n",
      "[nltk_data] Downloading package stopwords to\n",
      "[nltk_data]     C:\\Users\\E079051\\AppData\\Roaming\\nltk_data...\n",
      "[nltk_data]   Package stopwords is already up-to-date!\n"
     ]
    }
   ],
   "source": [
    "from train_classifier import *"
   ]
  },
  {
   "cell_type": "code",
   "execution_count": 4,
   "id": "5db7f5d5-ba8c-4ab5-8c7b-aad29067feab",
   "metadata": {},
   "outputs": [],
   "source": [
    "X, Y, category_names = load_data(r'C:\\Users\\E079051\\Desktop\\Disaster_Response_Flask_App\\data\\CategorizedMessages.db')"
   ]
  },
  {
   "cell_type": "code",
   "execution_count": 5,
   "id": "4d8d163c-f017-4ef1-a1c0-3252b42938dd",
   "metadata": {},
   "outputs": [],
   "source": [
    "model = build_model()"
   ]
  },
  {
   "cell_type": "code",
   "execution_count": 6,
   "id": "8d173d3d-fbe4-4ae5-9f60-2f40c45a7f77",
   "metadata": {},
   "outputs": [],
   "source": [
    "X_train, X_test, Y_train, Y_test = train_test_split(X, Y, test_size=0.2, random_state=1729)"
   ]
  },
  {
   "cell_type": "code",
   "execution_count": 7,
   "id": "f15c2ee3-69c5-42d2-afe8-964a95e719e4",
   "metadata": {},
   "outputs": [
    {
     "data": {
      "text/plain": [
       "Pipeline(steps=[('tfidf',\n",
       "                 TfidfVectorizer(max_features=10000, ngram_range=(1, 2),\n",
       "                                 tokenizer=<function tokenize at 0x000001BAD73C3940>)),\n",
       "                ('clf',\n",
       "                 MultiOutputClassifier(estimator=XGBRFClassifier(base_score=None,\n",
       "                                                                 booster=None,\n",
       "                                                                 colsample_bylevel=None,\n",
       "                                                                 colsample_bytree=None,\n",
       "                                                                 enable_categorical=False,\n",
       "                                                                 gamma=None,\n",
       "                                                                 gpu_id=None,\n",
       "                                                                 importance_type=None,\n",
       "                                                                 interaction_constraints=None,\n",
       "                                                                 learning_rate=0.1,\n",
       "                                                                 max_delta_step=None,\n",
       "                                                                 max_depth=None,\n",
       "                                                                 min_child_weight=None,\n",
       "                                                                 missing=nan,\n",
       "                                                                 monotone_constraints=None,\n",
       "                                                                 n_estimators=100,\n",
       "                                                                 n_jobs=None,\n",
       "                                                                 num_parallel_tree=None,\n",
       "                                                                 objective='binary:logistic',\n",
       "                                                                 predictor=None,\n",
       "                                                                 random_state=None,\n",
       "                                                                 reg_alpha=None,\n",
       "                                                                 scale_pos_weight=None,\n",
       "                                                                 tree_method=None,\n",
       "                                                                 use_label_encoder=False,\n",
       "                                                                 validate_parameters=None,\n",
       "                                                                 verbosity=0)))])"
      ]
     },
     "execution_count": 7,
     "metadata": {},
     "output_type": "execute_result"
    }
   ],
   "source": [
    "model.fit(X_train, Y_train)"
   ]
  },
  {
   "cell_type": "code",
   "execution_count": 8,
   "id": "02898408-0742-4d7e-98b5-9f7108601211",
   "metadata": {},
   "outputs": [],
   "source": [
    "save_model(model, r'C:\\Users\\E079051\\Desktop\\Disaster_Response_Flask_App\\models\\classifier.pkl')"
   ]
  },
  {
   "cell_type": "code",
   "execution_count": null,
   "id": "17744ce7-0a1f-41f6-bc77-8374afff6e42",
   "metadata": {},
   "outputs": [],
   "source": []
  }
 ],
 "metadata": {
  "kernelspec": {
   "display_name": "Python 3",
   "language": "python",
   "name": "python3"
  },
  "language_info": {
   "codemirror_mode": {
    "name": "ipython",
    "version": 3
   },
   "file_extension": ".py",
   "mimetype": "text/x-python",
   "name": "python",
   "nbconvert_exporter": "python",
   "pygments_lexer": "ipython3",
   "version": "3.8.8"
  }
 },
 "nbformat": 4,
 "nbformat_minor": 5
}
