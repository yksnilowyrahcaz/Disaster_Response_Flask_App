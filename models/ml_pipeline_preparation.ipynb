{
 "cells": [
  {
   "cell_type": "markdown",
   "metadata": {},
   "source": [
    "# ML Pipeline Preparation\n",
    "Follow the instructions below to help you create your ML pipeline.\n",
    "### 1. Import libraries and load data from database.\n",
    "- Import Python libraries\n",
    "- Load dataset from database with [`read_sql_table`](https://pandas.pydata.org/pandas-docs/stable/generated/pandas.read_sql_table.html)\n",
    "- Define feature and target variables X and Y"
   ]
  },
  {
   "cell_type": "code",
   "execution_count": 1,
   "metadata": {
    "scrolled": true
   },
   "outputs": [],
   "source": [
    "# import libraries\n",
    "import re\n",
    "import pickle\n",
    "import numpy as np\n",
    "import pandas as pd\n",
    "from sqlalchemy import create_engine\n",
    "\n",
    "# nltk tools\n",
    "import nltk\n",
    "nltk.download(['punkt', 'wordnet', 'stopwords'])\n",
    "from nltk.corpus import stopwords\n",
    "from nltk.tokenize import word_tokenize\n",
    "from nltk.stem import WordNetLemmatizer\n",
    "\n",
    "# Classifiers to try\n",
    "from sklearn.svm import SVC\n",
    "from xgboost import XGBRFClassifier\n",
    "from sklearn.ensemble import RandomForestClassifier\n",
    "\n",
    "# Additional sklearn tools\n",
    "from sklearn.pipeline import Pipeline\n",
    "from sklearn.metrics import classification_report\n",
    "from sklearn.multioutput import MultiOutputClassifier\n",
    "from sklearn.feature_extraction.text import TfidfVectorizer\n",
    "from sklearn.model_selection import train_test_split, GridSearchCV"
   ]
  },
  {
   "cell_type": "code",
   "execution_count": 122,
   "metadata": {},
   "outputs": [],
   "source": [
    "# load data from database\n",
    "engine = create_engine('sqlite:///../data/MessagesDatabase.db')\n",
    "df = pd.read_sql_table('MessagesDatabase', con=engine)"
   ]
  },
  {
   "cell_type": "code",
   "execution_count": 123,
   "metadata": {
    "scrolled": true
   },
   "outputs": [
    {
     "data": {
      "text/html": [
       "<div>\n",
       "<style scoped>\n",
       "    .dataframe tbody tr th:only-of-type {\n",
       "        vertical-align: middle;\n",
       "    }\n",
       "\n",
       "    .dataframe tbody tr th {\n",
       "        vertical-align: top;\n",
       "    }\n",
       "\n",
       "    .dataframe thead th {\n",
       "        text-align: right;\n",
       "    }\n",
       "</style>\n",
       "<table border=\"1\" class=\"dataframe\">\n",
       "  <thead>\n",
       "    <tr style=\"text-align: right;\">\n",
       "      <th></th>\n",
       "      <th>message</th>\n",
       "      <th>genre</th>\n",
       "      <th>related</th>\n",
       "      <th>request</th>\n",
       "      <th>offer</th>\n",
       "      <th>aid_related</th>\n",
       "      <th>medical_help</th>\n",
       "      <th>medical_products</th>\n",
       "      <th>search_and_rescue</th>\n",
       "      <th>security</th>\n",
       "      <th>...</th>\n",
       "      <th>aid_centers</th>\n",
       "      <th>other_infrastructure</th>\n",
       "      <th>weather_related</th>\n",
       "      <th>floods</th>\n",
       "      <th>storm</th>\n",
       "      <th>fire</th>\n",
       "      <th>earthquake</th>\n",
       "      <th>cold</th>\n",
       "      <th>other_weather</th>\n",
       "      <th>direct_report</th>\n",
       "    </tr>\n",
       "  </thead>\n",
       "  <tbody>\n",
       "    <tr>\n",
       "      <th>0</th>\n",
       "      <td>Weather update - a cold front from Cuba that c...</td>\n",
       "      <td>direct</td>\n",
       "      <td>1</td>\n",
       "      <td>0</td>\n",
       "      <td>0</td>\n",
       "      <td>0</td>\n",
       "      <td>0</td>\n",
       "      <td>0</td>\n",
       "      <td>0</td>\n",
       "      <td>0</td>\n",
       "      <td>...</td>\n",
       "      <td>0</td>\n",
       "      <td>0</td>\n",
       "      <td>0</td>\n",
       "      <td>0</td>\n",
       "      <td>0</td>\n",
       "      <td>0</td>\n",
       "      <td>0</td>\n",
       "      <td>0</td>\n",
       "      <td>0</td>\n",
       "      <td>0</td>\n",
       "    </tr>\n",
       "    <tr>\n",
       "      <th>1</th>\n",
       "      <td>Is the Hurricane over or is it not over</td>\n",
       "      <td>direct</td>\n",
       "      <td>1</td>\n",
       "      <td>0</td>\n",
       "      <td>0</td>\n",
       "      <td>1</td>\n",
       "      <td>0</td>\n",
       "      <td>0</td>\n",
       "      <td>0</td>\n",
       "      <td>0</td>\n",
       "      <td>...</td>\n",
       "      <td>0</td>\n",
       "      <td>0</td>\n",
       "      <td>1</td>\n",
       "      <td>0</td>\n",
       "      <td>1</td>\n",
       "      <td>0</td>\n",
       "      <td>0</td>\n",
       "      <td>0</td>\n",
       "      <td>0</td>\n",
       "      <td>0</td>\n",
       "    </tr>\n",
       "    <tr>\n",
       "      <th>2</th>\n",
       "      <td>Looking for someone but no name</td>\n",
       "      <td>direct</td>\n",
       "      <td>1</td>\n",
       "      <td>0</td>\n",
       "      <td>0</td>\n",
       "      <td>0</td>\n",
       "      <td>0</td>\n",
       "      <td>0</td>\n",
       "      <td>0</td>\n",
       "      <td>0</td>\n",
       "      <td>...</td>\n",
       "      <td>0</td>\n",
       "      <td>0</td>\n",
       "      <td>0</td>\n",
       "      <td>0</td>\n",
       "      <td>0</td>\n",
       "      <td>0</td>\n",
       "      <td>0</td>\n",
       "      <td>0</td>\n",
       "      <td>0</td>\n",
       "      <td>0</td>\n",
       "    </tr>\n",
       "    <tr>\n",
       "      <th>3</th>\n",
       "      <td>UN reports Leogane 80-90 destroyed. Only Hospi...</td>\n",
       "      <td>direct</td>\n",
       "      <td>1</td>\n",
       "      <td>1</td>\n",
       "      <td>0</td>\n",
       "      <td>1</td>\n",
       "      <td>0</td>\n",
       "      <td>1</td>\n",
       "      <td>0</td>\n",
       "      <td>0</td>\n",
       "      <td>...</td>\n",
       "      <td>0</td>\n",
       "      <td>0</td>\n",
       "      <td>0</td>\n",
       "      <td>0</td>\n",
       "      <td>0</td>\n",
       "      <td>0</td>\n",
       "      <td>0</td>\n",
       "      <td>0</td>\n",
       "      <td>0</td>\n",
       "      <td>0</td>\n",
       "    </tr>\n",
       "    <tr>\n",
       "      <th>4</th>\n",
       "      <td>says: west side of Haiti, rest of the country ...</td>\n",
       "      <td>direct</td>\n",
       "      <td>1</td>\n",
       "      <td>0</td>\n",
       "      <td>0</td>\n",
       "      <td>0</td>\n",
       "      <td>0</td>\n",
       "      <td>0</td>\n",
       "      <td>0</td>\n",
       "      <td>0</td>\n",
       "      <td>...</td>\n",
       "      <td>0</td>\n",
       "      <td>0</td>\n",
       "      <td>0</td>\n",
       "      <td>0</td>\n",
       "      <td>0</td>\n",
       "      <td>0</td>\n",
       "      <td>0</td>\n",
       "      <td>0</td>\n",
       "      <td>0</td>\n",
       "      <td>0</td>\n",
       "    </tr>\n",
       "    <tr>\n",
       "      <th>...</th>\n",
       "      <td>...</td>\n",
       "      <td>...</td>\n",
       "      <td>...</td>\n",
       "      <td>...</td>\n",
       "      <td>...</td>\n",
       "      <td>...</td>\n",
       "      <td>...</td>\n",
       "      <td>...</td>\n",
       "      <td>...</td>\n",
       "      <td>...</td>\n",
       "      <td>...</td>\n",
       "      <td>...</td>\n",
       "      <td>...</td>\n",
       "      <td>...</td>\n",
       "      <td>...</td>\n",
       "      <td>...</td>\n",
       "      <td>...</td>\n",
       "      <td>...</td>\n",
       "      <td>...</td>\n",
       "      <td>...</td>\n",
       "      <td>...</td>\n",
       "    </tr>\n",
       "    <tr>\n",
       "      <th>26175</th>\n",
       "      <td>The training demonstrated how to enhance micro...</td>\n",
       "      <td>news</td>\n",
       "      <td>0</td>\n",
       "      <td>0</td>\n",
       "      <td>0</td>\n",
       "      <td>0</td>\n",
       "      <td>0</td>\n",
       "      <td>0</td>\n",
       "      <td>0</td>\n",
       "      <td>0</td>\n",
       "      <td>...</td>\n",
       "      <td>0</td>\n",
       "      <td>0</td>\n",
       "      <td>0</td>\n",
       "      <td>0</td>\n",
       "      <td>0</td>\n",
       "      <td>0</td>\n",
       "      <td>0</td>\n",
       "      <td>0</td>\n",
       "      <td>0</td>\n",
       "      <td>0</td>\n",
       "    </tr>\n",
       "    <tr>\n",
       "      <th>26176</th>\n",
       "      <td>A suitable candidate has been selected and OCH...</td>\n",
       "      <td>news</td>\n",
       "      <td>0</td>\n",
       "      <td>0</td>\n",
       "      <td>0</td>\n",
       "      <td>0</td>\n",
       "      <td>0</td>\n",
       "      <td>0</td>\n",
       "      <td>0</td>\n",
       "      <td>0</td>\n",
       "      <td>...</td>\n",
       "      <td>0</td>\n",
       "      <td>0</td>\n",
       "      <td>0</td>\n",
       "      <td>0</td>\n",
       "      <td>0</td>\n",
       "      <td>0</td>\n",
       "      <td>0</td>\n",
       "      <td>0</td>\n",
       "      <td>0</td>\n",
       "      <td>0</td>\n",
       "    </tr>\n",
       "    <tr>\n",
       "      <th>26177</th>\n",
       "      <td>Proshika, operating in Cox's Bazar municipalit...</td>\n",
       "      <td>news</td>\n",
       "      <td>1</td>\n",
       "      <td>0</td>\n",
       "      <td>0</td>\n",
       "      <td>0</td>\n",
       "      <td>0</td>\n",
       "      <td>0</td>\n",
       "      <td>0</td>\n",
       "      <td>0</td>\n",
       "      <td>...</td>\n",
       "      <td>0</td>\n",
       "      <td>0</td>\n",
       "      <td>0</td>\n",
       "      <td>0</td>\n",
       "      <td>0</td>\n",
       "      <td>0</td>\n",
       "      <td>0</td>\n",
       "      <td>0</td>\n",
       "      <td>0</td>\n",
       "      <td>0</td>\n",
       "    </tr>\n",
       "    <tr>\n",
       "      <th>26178</th>\n",
       "      <td>Some 2,000 women protesting against the conduc...</td>\n",
       "      <td>news</td>\n",
       "      <td>1</td>\n",
       "      <td>0</td>\n",
       "      <td>0</td>\n",
       "      <td>1</td>\n",
       "      <td>0</td>\n",
       "      <td>0</td>\n",
       "      <td>0</td>\n",
       "      <td>0</td>\n",
       "      <td>...</td>\n",
       "      <td>0</td>\n",
       "      <td>0</td>\n",
       "      <td>0</td>\n",
       "      <td>0</td>\n",
       "      <td>0</td>\n",
       "      <td>0</td>\n",
       "      <td>0</td>\n",
       "      <td>0</td>\n",
       "      <td>0</td>\n",
       "      <td>0</td>\n",
       "    </tr>\n",
       "    <tr>\n",
       "      <th>26179</th>\n",
       "      <td>A radical shift in thinking came about as a re...</td>\n",
       "      <td>news</td>\n",
       "      <td>1</td>\n",
       "      <td>0</td>\n",
       "      <td>0</td>\n",
       "      <td>0</td>\n",
       "      <td>0</td>\n",
       "      <td>0</td>\n",
       "      <td>0</td>\n",
       "      <td>0</td>\n",
       "      <td>...</td>\n",
       "      <td>0</td>\n",
       "      <td>0</td>\n",
       "      <td>0</td>\n",
       "      <td>0</td>\n",
       "      <td>0</td>\n",
       "      <td>0</td>\n",
       "      <td>0</td>\n",
       "      <td>0</td>\n",
       "      <td>0</td>\n",
       "      <td>0</td>\n",
       "    </tr>\n",
       "  </tbody>\n",
       "</table>\n",
       "<p>26180 rows × 37 columns</p>\n",
       "</div>"
      ],
      "text/plain": [
       "                                                 message   genre  related  \\\n",
       "0      Weather update - a cold front from Cuba that c...  direct        1   \n",
       "1                Is the Hurricane over or is it not over  direct        1   \n",
       "2                        Looking for someone but no name  direct        1   \n",
       "3      UN reports Leogane 80-90 destroyed. Only Hospi...  direct        1   \n",
       "4      says: west side of Haiti, rest of the country ...  direct        1   \n",
       "...                                                  ...     ...      ...   \n",
       "26175  The training demonstrated how to enhance micro...    news        0   \n",
       "26176  A suitable candidate has been selected and OCH...    news        0   \n",
       "26177  Proshika, operating in Cox's Bazar municipalit...    news        1   \n",
       "26178  Some 2,000 women protesting against the conduc...    news        1   \n",
       "26179  A radical shift in thinking came about as a re...    news        1   \n",
       "\n",
       "       request  offer  aid_related  medical_help  medical_products  \\\n",
       "0            0      0            0             0                 0   \n",
       "1            0      0            1             0                 0   \n",
       "2            0      0            0             0                 0   \n",
       "3            1      0            1             0                 1   \n",
       "4            0      0            0             0                 0   \n",
       "...        ...    ...          ...           ...               ...   \n",
       "26175        0      0            0             0                 0   \n",
       "26176        0      0            0             0                 0   \n",
       "26177        0      0            0             0                 0   \n",
       "26178        0      0            1             0                 0   \n",
       "26179        0      0            0             0                 0   \n",
       "\n",
       "       search_and_rescue  security  ...  aid_centers  other_infrastructure  \\\n",
       "0                      0         0  ...            0                     0   \n",
       "1                      0         0  ...            0                     0   \n",
       "2                      0         0  ...            0                     0   \n",
       "3                      0         0  ...            0                     0   \n",
       "4                      0         0  ...            0                     0   \n",
       "...                  ...       ...  ...          ...                   ...   \n",
       "26175                  0         0  ...            0                     0   \n",
       "26176                  0         0  ...            0                     0   \n",
       "26177                  0         0  ...            0                     0   \n",
       "26178                  0         0  ...            0                     0   \n",
       "26179                  0         0  ...            0                     0   \n",
       "\n",
       "       weather_related  floods  storm  fire  earthquake  cold  other_weather  \\\n",
       "0                    0       0      0     0           0     0              0   \n",
       "1                    1       0      1     0           0     0              0   \n",
       "2                    0       0      0     0           0     0              0   \n",
       "3                    0       0      0     0           0     0              0   \n",
       "4                    0       0      0     0           0     0              0   \n",
       "...                ...     ...    ...   ...         ...   ...            ...   \n",
       "26175                0       0      0     0           0     0              0   \n",
       "26176                0       0      0     0           0     0              0   \n",
       "26177                0       0      0     0           0     0              0   \n",
       "26178                0       0      0     0           0     0              0   \n",
       "26179                0       0      0     0           0     0              0   \n",
       "\n",
       "       direct_report  \n",
       "0                  0  \n",
       "1                  0  \n",
       "2                  0  \n",
       "3                  0  \n",
       "4                  0  \n",
       "...              ...  \n",
       "26175              0  \n",
       "26176              0  \n",
       "26177              0  \n",
       "26178              0  \n",
       "26179              0  \n",
       "\n",
       "[26180 rows x 37 columns]"
      ]
     },
     "execution_count": 123,
     "metadata": {},
     "output_type": "execute_result"
    }
   ],
   "source": [
    "# check that the data read in correctly\n",
    "df"
   ]
  },
  {
   "cell_type": "code",
   "execution_count": 124,
   "metadata": {
    "scrolled": true
   },
   "outputs": [
    {
     "data": {
      "text/plain": [
       "(26180, 37)"
      ]
     },
     "execution_count": 124,
     "metadata": {},
     "output_type": "execute_result"
    }
   ],
   "source": [
    "df.shape"
   ]
  },
  {
   "cell_type": "code",
   "execution_count": 8,
   "metadata": {
    "scrolled": true
   },
   "outputs": [
    {
     "data": {
      "text/plain": [
       "'Please, we need tents and water. We are in Silo, Thank you!'"
      ]
     },
     "execution_count": 8,
     "metadata": {},
     "output_type": "execute_result"
    }
   ],
   "source": [
    "# View the first message related to water\n",
    "df[df.water == 1].message.iloc[0]"
   ]
  },
  {
   "cell_type": "code",
   "execution_count": 9,
   "metadata": {},
   "outputs": [],
   "source": [
    "# separate the messages from the categories\n",
    "X = df.message.values\n",
    "Y = df.iloc[:,2:].values"
   ]
  },
  {
   "cell_type": "code",
   "execution_count": 10,
   "metadata": {},
   "outputs": [
    {
     "data": {
      "text/plain": [
       "array(['Weather update - a cold front from Cuba that could pass over Haiti',\n",
       "       'Is the Hurricane over or is it not over',\n",
       "       'Looking for someone but no name', ...,\n",
       "       \"Proshika, operating in Cox's Bazar municipality and 5 other unions, Ramu and Chokoria, assessment, 5 kg rice, 1,5 kg lentils to 700 families.\",\n",
       "       'Some 2,000 women protesting against the conduct of the elections were teargassed as they tried to converge on the local electoral commission offices in the southern oil city of Port Harcourt.',\n",
       "       'A radical shift in thinking came about as a result of this meeting, recognizing that HIV/AIDS is at the core of the humanitarian crisis and identifying the crisis itself as a function of the HIV/AIDS pandemic.'],\n",
       "      dtype=object)"
      ]
     },
     "execution_count": 10,
     "metadata": {},
     "output_type": "execute_result"
    }
   ],
   "source": [
    "X"
   ]
  },
  {
   "cell_type": "code",
   "execution_count": 11,
   "metadata": {},
   "outputs": [
    {
     "data": {
      "text/plain": [
       "array([[1, 0, 0, ..., 0, 0, 0],\n",
       "       [1, 0, 0, ..., 0, 0, 0],\n",
       "       [1, 0, 0, ..., 0, 0, 0],\n",
       "       ...,\n",
       "       [1, 0, 0, ..., 0, 0, 0],\n",
       "       [1, 0, 0, ..., 0, 0, 0],\n",
       "       [1, 0, 0, ..., 0, 0, 0]], dtype=int64)"
      ]
     },
     "execution_count": 11,
     "metadata": {},
     "output_type": "execute_result"
    }
   ],
   "source": [
    "Y"
   ]
  },
  {
   "cell_type": "code",
   "execution_count": 12,
   "metadata": {},
   "outputs": [
    {
     "data": {
      "text/plain": [
       "((26180,), (26180, 35))"
      ]
     },
     "execution_count": 12,
     "metadata": {},
     "output_type": "execute_result"
    }
   ],
   "source": [
    "X.shape, Y.shape"
   ]
  },
  {
   "cell_type": "markdown",
   "metadata": {},
   "source": [
    "### 2. Write a tokenization function to process your text data"
   ]
  },
  {
   "cell_type": "code",
   "execution_count": 13,
   "metadata": {},
   "outputs": [],
   "source": [
    "def tokenize(text):\n",
    "    '''\n",
    "    Convert a string of text into a list of tokens\n",
    "    \n",
    "    Input\n",
    "        text: str, containing the text to be tokenized\n",
    "        \n",
    "    Output\n",
    "        clean_tokens: list, containing normalized, tokenized and lemmatized text\n",
    "    '''\n",
    "    \n",
    "    # detect and replace urls with placeholder\n",
    "    url_regex = 'http[s]?://(?:[a-zA-Z]|[0-9]|[$-_@.&+]|[!*\\(\\),]|(?:%[0-9a-fA-F][0-9a-fA-F]))+'\n",
    "    detected_urls = re.findall(url_regex, text)\n",
    "    for url in detected_urls:\n",
    "        text = text.replace(url, 'urlplaceholder')\n",
    "\n",
    "    # case normalize and remove punctuation, except for $ sign\n",
    "    text = re.sub(r'[^a-zA-Z$]', ' ', text.lower())\n",
    "    \n",
    "    # tokenize\n",
    "    tokens = word_tokenize(text)\n",
    "    \n",
    "    # remove stop words and lemmatize\n",
    "    lem = WordNetLemmatizer()\n",
    "    stop_words = stopwords.words('english')\n",
    "    clean_tokens = [lem.lemmatize(tok).strip() for tok in tokens if tok not in stop_words]\n",
    "\n",
    "    return clean_tokens"
   ]
  },
  {
   "cell_type": "markdown",
   "metadata": {},
   "source": [
    "#### Before we build a model, let's get a sense of how our tokenizer works with sklearn's `TfidfVectorizer`"
   ]
  },
  {
   "cell_type": "code",
   "execution_count": 19,
   "metadata": {},
   "outputs": [],
   "source": [
    "tfidf_vectorizer = TfidfVectorizer(tokenizer=tokenize)"
   ]
  },
  {
   "cell_type": "code",
   "execution_count": 20,
   "metadata": {},
   "outputs": [
    {
     "name": "stdout",
     "output_type": "stream",
     "text": [
      "Wall time: 17.5 s\n"
     ]
    }
   ],
   "source": [
    "%%time\n",
    "tfidf_matrix = tfidf_vectorizer.fit_transform(X)"
   ]
  },
  {
   "cell_type": "code",
   "execution_count": 23,
   "metadata": {},
   "outputs": [
    {
     "name": "stdout",
     "output_type": "stream",
     "text": [
      "  (0, 11176)\t0.24576657955347114\n",
      "  (0, 19424)\t0.35062973607236964\n",
      "  (0, 5730)\t0.2828895174740424\n",
      "  (0, 6018)\t0.45997200076358874\n",
      "  (0, 9996)\t0.3822004543717484\n",
      "  (0, 4938)\t0.33653829701560334\n",
      "  (0, 27971)\t0.41559934724979647\n",
      "  (0, 28836)\t0.3049570885529014\n"
     ]
    }
   ],
   "source": [
    "# View the first ten elements of the compressed sparse row (csr)\n",
    "# matrix returned by TfidfVectorizer, showing coordinates and values\n",
    "print(tfidf_matrix[0])"
   ]
  },
  {
   "cell_type": "code",
   "execution_count": 24,
   "metadata": {},
   "outputs": [
    {
     "data": {
      "text/plain": [
       "(26180, 29755)"
      ]
     },
     "execution_count": 24,
     "metadata": {},
     "output_type": "execute_result"
    }
   ],
   "source": [
    "tfidf_matrix.shape"
   ]
  },
  {
   "cell_type": "markdown",
   "metadata": {},
   "source": [
    "#### We can see from the shape of `tfidf_matrix` that the lexicon (vocabulary) of the data set after tokenization is 29,755. In other words, the current feature space consists of 29,755 dimensions!\n",
    "\n",
    "#### We can look at the features that we have for the first message:"
   ]
  },
  {
   "cell_type": "code",
   "execution_count": 25,
   "metadata": {},
   "outputs": [
    {
     "data": {
      "text/plain": [
       "['cold', 'could', 'cuba', 'front', 'haiti', 'pas', 'update', 'weather']"
      ]
     },
     "execution_count": 25,
     "metadata": {},
     "output_type": "execute_result"
    }
   ],
   "source": [
    "# View the features associated with the first message\n",
    "tfidf_np_matrix = tfidf_matrix.toarray()\n",
    "nonzero_indices = np.flatnonzero(tfidf_np_matrix[0])\n",
    "words = tfidf_vectorizer.get_feature_names()\n",
    "[words[i] for i in nonzero_indices]"
   ]
  },
  {
   "cell_type": "code",
   "execution_count": 26,
   "metadata": {},
   "outputs": [
    {
     "data": {
      "text/plain": [
       "'Weather update - a cold front from Cuba that could pass over Haiti'"
      ]
     },
     "execution_count": 26,
     "metadata": {},
     "output_type": "execute_result"
    }
   ],
   "source": [
    "# View the first message\n",
    "df.iloc[0].message"
   ]
  },
  {
   "cell_type": "markdown",
   "metadata": {},
   "source": [
    "#### Our vectorization appears to be working as expected"
   ]
  },
  {
   "cell_type": "markdown",
   "metadata": {},
   "source": [
    "### 3. Build a machine learning pipeline\n",
    "This machine pipeline should take in the `message` column as input and output classification results on the other 36 categories in the dataset. You may find the [MultiOutputClassifier](http://scikit-learn.org/stable/modules/generated/sklearn.multioutput.MultiOutputClassifier.html) helpful for predicting multiple target variables."
   ]
  },
  {
   "cell_type": "code",
   "execution_count": 15,
   "metadata": {},
   "outputs": [],
   "source": [
    "pipeline = Pipeline([\n",
    "    ('tfidf', TfidfVectorizer(tokenizer=tokenize)),\n",
    "    ('clf', MultiOutputClassifier(SVC()))\n",
    "])"
   ]
  },
  {
   "cell_type": "markdown",
   "metadata": {},
   "source": [
    "### 4. Train pipeline\n",
    "- Split data into train and test sets\n",
    "- Train pipeline"
   ]
  },
  {
   "cell_type": "code",
   "execution_count": 16,
   "metadata": {},
   "outputs": [
    {
     "name": "stdout",
     "output_type": "stream",
     "text": [
      "Wall time: 23.2 ms\n"
     ]
    }
   ],
   "source": [
    "%%time\n",
    "# Split data into train and test sets\n",
    "X_train, X_test, y_train, y_test = train_test_split(X, Y, test_size=.2, random_state=1729)"
   ]
  },
  {
   "cell_type": "code",
   "execution_count": 17,
   "metadata": {},
   "outputs": [
    {
     "data": {
      "text/plain": [
       "((20944,), (5236,), (20944, 35), (5236, 35))"
      ]
     },
     "execution_count": 17,
     "metadata": {},
     "output_type": "execute_result"
    }
   ],
   "source": [
    "X_train.shape, X_test.shape, y_train.shape, y_test.shape"
   ]
  },
  {
   "cell_type": "code",
   "execution_count": 18,
   "metadata": {},
   "outputs": [
    {
     "name": "stdout",
     "output_type": "stream",
     "text": [
      "Wall time: 33min 27s\n"
     ]
    },
    {
     "data": {
      "text/plain": [
       "Pipeline(steps=[('tfidf',\n",
       "                 TfidfVectorizer(tokenizer=<function tokenize at 0x000001C96F8980D0>)),\n",
       "                ('clf', MultiOutputClassifier(estimator=SVC()))])"
      ]
     },
     "execution_count": 18,
     "metadata": {},
     "output_type": "execute_result"
    }
   ],
   "source": [
    "%%time\n",
    "pipeline.fit(X_train, y_train)"
   ]
  },
  {
   "cell_type": "markdown",
   "metadata": {},
   "source": [
    "### 5. Test your model\n",
    "Report the f1 score, precision and recall for each output category of the dataset. You can do this by iterating through the columns and calling sklearn's `classification_report` on each."
   ]
  },
  {
   "cell_type": "code",
   "execution_count": 19,
   "metadata": {},
   "outputs": [
    {
     "name": "stdout",
     "output_type": "stream",
     "text": [
      "Wall time: 2min 30s\n"
     ]
    }
   ],
   "source": [
    "%%time\n",
    "y_pred = pipeline.predict(X_test)"
   ]
  },
  {
   "cell_type": "code",
   "execution_count": 20,
   "metadata": {},
   "outputs": [
    {
     "name": "stdout",
     "output_type": "stream",
     "text": [
      "                        precision    recall  f1-score   support\n",
      "\n",
      "               related       0.84      0.96      0.89      4002\n",
      "               request       0.84      0.56      0.67       879\n",
      "                 offer       0.00      0.00      0.00        26\n",
      "           aid_related       0.77      0.66      0.71      2177\n",
      "          medical_help       0.70      0.17      0.27       405\n",
      "      medical_products       0.87      0.17      0.29       264\n",
      "     search_and_rescue       0.75      0.09      0.16       137\n",
      "              security       0.00      0.00      0.00        98\n",
      "              military       0.86      0.13      0.23       185\n",
      "                 water       0.74      0.59      0.65       315\n",
      "                  food       0.81      0.69      0.75       596\n",
      "               shelter       0.84      0.44      0.58       472\n",
      "              clothing       0.85      0.45      0.58        74\n",
      "                 money       0.70      0.06      0.10       127\n",
      "        missing_people       1.00      0.03      0.06        65\n",
      "              refugees       0.67      0.10      0.18       172\n",
      "                 death       0.82      0.41      0.55       252\n",
      "             other_aid       0.76      0.06      0.11       654\n",
      "infrastructure_related       1.00      0.01      0.01       342\n",
      "             transport       0.78      0.10      0.18       239\n",
      "             buildings       0.74      0.21      0.32       262\n",
      "           electricity       0.75      0.14      0.24       107\n",
      "                 tools       0.00      0.00      0.00        42\n",
      "             hospitals       0.00      0.00      0.00        54\n",
      "                 shops       0.00      0.00      0.00        24\n",
      "           aid_centers       0.00      0.00      0.00        57\n",
      "  other_infrastructure       0.50      0.00      0.01       233\n",
      "       weather_related       0.88      0.70      0.78      1471\n",
      "                floods       0.94      0.50      0.65       430\n",
      "                 storm       0.76      0.56      0.65       498\n",
      "                  fire       0.83      0.08      0.14        63\n",
      "            earthquake       0.93      0.79      0.85       489\n",
      "                  cold       0.65      0.19      0.29       106\n",
      "         other_weather       0.87      0.05      0.09       281\n",
      "         direct_report       0.80      0.44      0.57       999\n",
      "\n",
      "             micro avg       0.83      0.57      0.67     16597\n",
      "             macro avg       0.66      0.27      0.33     16597\n",
      "          weighted avg       0.80      0.57      0.61     16597\n",
      "           samples avg       0.67      0.50      0.53     16597\n",
      "\n"
     ]
    },
    {
     "name": "stderr",
     "output_type": "stream",
     "text": [
      "c:\\users\\embouchero\\appdata\\local\\programs\\python\\python38\\lib\\site-packages\\sklearn\\metrics\\_classification.py:1221: UndefinedMetricWarning: Precision and F-score are ill-defined and being set to 0.0 in labels with no predicted samples. Use `zero_division` parameter to control this behavior.\n",
      "  _warn_prf(average, modifier, msg_start, len(result))\n",
      "c:\\users\\embouchero\\appdata\\local\\programs\\python\\python38\\lib\\site-packages\\sklearn\\metrics\\_classification.py:1221: UndefinedMetricWarning: Precision and F-score are ill-defined and being set to 0.0 in samples with no predicted labels. Use `zero_division` parameter to control this behavior.\n",
      "  _warn_prf(average, modifier, msg_start, len(result))\n",
      "c:\\users\\embouchero\\appdata\\local\\programs\\python\\python38\\lib\\site-packages\\sklearn\\metrics\\_classification.py:1221: UndefinedMetricWarning: Recall and F-score are ill-defined and being set to 0.0 in samples with no true labels. Use `zero_division` parameter to control this behavior.\n",
      "  _warn_prf(average, modifier, msg_start, len(result))\n"
     ]
    }
   ],
   "source": [
    "print(classification_report(y_test, y_pred, target_names=df.columns.to_list()[2:]))"
   ]
  },
  {
   "cell_type": "code",
   "execution_count": 23,
   "metadata": {},
   "outputs": [],
   "source": [
    "pickle.dump(pipeline, open('svc_model.pkl', 'wb'))"
   ]
  },
  {
   "cell_type": "markdown",
   "metadata": {},
   "source": [
    "### 6. Try improving your model. Here are a few ideas:\n",
    "* try other machine learning algorithms\n",
    "* add other features besides the TF-IDF"
   ]
  },
  {
   "cell_type": "markdown",
   "metadata": {},
   "source": [
    "#### Now we will try modeling using `XGBRFClassifier`"
   ]
  },
  {
   "cell_type": "code",
   "execution_count": 24,
   "metadata": {},
   "outputs": [],
   "source": [
    "pipeline = Pipeline([\n",
    "    ('tfidf', TfidfVectorizer(tokenizer=tokenize)),\n",
    "    ('clf', MultiOutputClassifier(XGBRFClassifier(use_label_encoder=False, verbosity=0)))\n",
    "])"
   ]
  },
  {
   "cell_type": "code",
   "execution_count": 25,
   "metadata": {},
   "outputs": [
    {
     "name": "stdout",
     "output_type": "stream",
     "text": [
      "Wall time: 3min 51s\n"
     ]
    },
    {
     "data": {
      "text/plain": [
       "Pipeline(steps=[('tfidf',\n",
       "                 TfidfVectorizer(tokenizer=<function tokenize at 0x000001C96F8980D0>)),\n",
       "                ('clf',\n",
       "                 MultiOutputClassifier(estimator=XGBRFClassifier(base_score=None,\n",
       "                                                                 booster=None,\n",
       "                                                                 colsample_bylevel=None,\n",
       "                                                                 colsample_bytree=None,\n",
       "                                                                 enable_categorical=False,\n",
       "                                                                 gamma=None,\n",
       "                                                                 gpu_id=None,\n",
       "                                                                 importance_type=None,\n",
       "                                                                 interaction_constraints=None,\n",
       "                                                                 max_delta_step=None,\n",
       "                                                                 max_depth=None,\n",
       "                                                                 min_child_weight=None,\n",
       "                                                                 missing=nan,\n",
       "                                                                 monotone_constraints=None,\n",
       "                                                                 n_estimators=100,\n",
       "                                                                 n_jobs=None,\n",
       "                                                                 num_parallel_tree=None,\n",
       "                                                                 objective='binary:logistic',\n",
       "                                                                 predictor=None,\n",
       "                                                                 random_state=None,\n",
       "                                                                 reg_alpha=None,\n",
       "                                                                 scale_pos_weight=None,\n",
       "                                                                 tree_method=None,\n",
       "                                                                 use_label_encoder=False,\n",
       "                                                                 validate_parameters=None,\n",
       "                                                                 verbosity=0)))])"
      ]
     },
     "execution_count": 25,
     "metadata": {},
     "output_type": "execute_result"
    }
   ],
   "source": [
    "%%time\n",
    "pipeline.fit(X_train, y_train)"
   ]
  },
  {
   "cell_type": "markdown",
   "metadata": {},
   "source": [
    "#### This is a significant improvement in the amount of time taken to compute the model. We can see that while it took 33 minutes to learn using support vector classifier, it only took 3 minutes to learn using the cross gradient boosted random forest."
   ]
  },
  {
   "cell_type": "code",
   "execution_count": 26,
   "metadata": {},
   "outputs": [
    {
     "name": "stdout",
     "output_type": "stream",
     "text": [
      "Wall time: 3.2 s\n"
     ]
    }
   ],
   "source": [
    "%%time\n",
    "y_pred = pipeline.predict(X_test)"
   ]
  },
  {
   "cell_type": "code",
   "execution_count": 27,
   "metadata": {},
   "outputs": [
    {
     "name": "stdout",
     "output_type": "stream",
     "text": [
      "                        precision    recall  f1-score   support\n",
      "\n",
      "               related       0.79      0.98      0.87      4002\n",
      "               request       0.82      0.44      0.57       879\n",
      "                 offer       0.00      0.00      0.00        26\n",
      "           aid_related       0.72      0.50      0.59      2177\n",
      "          medical_help       0.60      0.16      0.25       405\n",
      "      medical_products       0.78      0.29      0.42       264\n",
      "     search_and_rescue       0.63      0.23      0.33       137\n",
      "              security       0.33      0.01      0.02        98\n",
      "              military       0.64      0.15      0.24       185\n",
      "                 water       0.78      0.55      0.64       315\n",
      "                  food       0.77      0.78      0.77       596\n",
      "               shelter       0.80      0.56      0.66       472\n",
      "              clothing       0.74      0.66      0.70        74\n",
      "                 money       0.57      0.22      0.32       127\n",
      "        missing_people       0.58      0.22      0.31        65\n",
      "              refugees       0.59      0.26      0.36       172\n",
      "                 death       0.72      0.58      0.64       252\n",
      "             other_aid       0.65      0.06      0.11       654\n",
      "infrastructure_related       0.57      0.05      0.09       342\n",
      "             transport       0.67      0.29      0.41       239\n",
      "             buildings       0.74      0.25      0.37       262\n",
      "           electricity       0.57      0.23      0.33       107\n",
      "                 tools       0.50      0.05      0.09        42\n",
      "             hospitals       0.50      0.07      0.13        54\n",
      "                 shops       0.00      0.00      0.00        24\n",
      "           aid_centers       0.40      0.04      0.06        57\n",
      "  other_infrastructure       0.55      0.03      0.05       233\n",
      "       weather_related       0.90      0.52      0.66      1471\n",
      "                floods       0.90      0.57      0.70       430\n",
      "                 storm       0.80      0.58      0.67       498\n",
      "                  fire       0.84      0.33      0.48        63\n",
      "            earthquake       0.92      0.82      0.87       489\n",
      "                  cold       0.66      0.42      0.51       106\n",
      "         other_weather       0.61      0.18      0.28       281\n",
      "         direct_report       0.77      0.32      0.45       999\n",
      "\n",
      "             micro avg       0.78      0.55      0.65     16597\n",
      "             macro avg       0.64      0.32      0.40     16597\n",
      "          weighted avg       0.75      0.55      0.60     16597\n",
      "           samples avg       0.68      0.50      0.53     16597\n",
      "\n"
     ]
    },
    {
     "name": "stderr",
     "output_type": "stream",
     "text": [
      "c:\\users\\embouchero\\appdata\\local\\programs\\python\\python38\\lib\\site-packages\\sklearn\\metrics\\_classification.py:1221: UndefinedMetricWarning: Precision and F-score are ill-defined and being set to 0.0 in labels with no predicted samples. Use `zero_division` parameter to control this behavior.\n",
      "  _warn_prf(average, modifier, msg_start, len(result))\n",
      "c:\\users\\embouchero\\appdata\\local\\programs\\python\\python38\\lib\\site-packages\\sklearn\\metrics\\_classification.py:1221: UndefinedMetricWarning: Precision and F-score are ill-defined and being set to 0.0 in samples with no predicted labels. Use `zero_division` parameter to control this behavior.\n",
      "  _warn_prf(average, modifier, msg_start, len(result))\n",
      "c:\\users\\embouchero\\appdata\\local\\programs\\python\\python38\\lib\\site-packages\\sklearn\\metrics\\_classification.py:1221: UndefinedMetricWarning: Recall and F-score are ill-defined and being set to 0.0 in samples with no true labels. Use `zero_division` parameter to control this behavior.\n",
      "  _warn_prf(average, modifier, msg_start, len(result))\n"
     ]
    }
   ],
   "source": [
    "print(classification_report(y_test, y_pred, target_names=df.columns.to_list()[2:]))"
   ]
  },
  {
   "cell_type": "code",
   "execution_count": 28,
   "metadata": {},
   "outputs": [],
   "source": [
    "pickle.dump(pipeline, open('xgbrf_model.pkl', 'wb'))"
   ]
  },
  {
   "cell_type": "markdown",
   "metadata": {},
   "source": [
    "#### Now let's try a random forest without xgboost"
   ]
  },
  {
   "cell_type": "code",
   "execution_count": 29,
   "metadata": {},
   "outputs": [],
   "source": [
    "pipeline = Pipeline([\n",
    "    ('tfidf', TfidfVectorizer(tokenizer=tokenize)),\n",
    "    ('clf', MultiOutputClassifier(RandomForestClassifier()))\n",
    "])"
   ]
  },
  {
   "cell_type": "code",
   "execution_count": 30,
   "metadata": {
    "scrolled": true
   },
   "outputs": [
    {
     "name": "stdout",
     "output_type": "stream",
     "text": [
      "Wall time: 6min 7s\n"
     ]
    },
    {
     "data": {
      "text/plain": [
       "Pipeline(steps=[('tfidf',\n",
       "                 TfidfVectorizer(tokenizer=<function tokenize at 0x000001C96F8980D0>)),\n",
       "                ('clf',\n",
       "                 MultiOutputClassifier(estimator=RandomForestClassifier()))])"
      ]
     },
     "execution_count": 30,
     "metadata": {},
     "output_type": "execute_result"
    }
   ],
   "source": [
    "%%time\n",
    "pipeline.fit(X_train, y_train)"
   ]
  },
  {
   "cell_type": "code",
   "execution_count": 31,
   "metadata": {},
   "outputs": [
    {
     "name": "stdout",
     "output_type": "stream",
     "text": [
      "Wall time: 15.4 s\n"
     ]
    }
   ],
   "source": [
    "%%time\n",
    "y_pred = pipeline.predict(X_test)"
   ]
  },
  {
   "cell_type": "code",
   "execution_count": 32,
   "metadata": {},
   "outputs": [
    {
     "name": "stdout",
     "output_type": "stream",
     "text": [
      "                        precision    recall  f1-score   support\n",
      "\n",
      "               related       0.84      0.95      0.89      4002\n",
      "               request       0.84      0.51      0.64       879\n",
      "                 offer       0.00      0.00      0.00        26\n",
      "           aid_related       0.75      0.69      0.72      2177\n",
      "          medical_help       0.74      0.11      0.20       405\n",
      "      medical_products       0.84      0.10      0.18       264\n",
      "     search_and_rescue       0.62      0.04      0.07       137\n",
      "              security       0.00      0.00      0.00        98\n",
      "              military       0.70      0.09      0.15       185\n",
      "                 water       0.87      0.41      0.56       315\n",
      "                  food       0.85      0.54      0.66       596\n",
      "               shelter       0.84      0.40      0.55       472\n",
      "              clothing       0.73      0.11      0.19        74\n",
      "                 money       0.67      0.02      0.03       127\n",
      "        missing_people       0.00      0.00      0.00        65\n",
      "              refugees       0.67      0.05      0.09       172\n",
      "                 death       0.87      0.24      0.38       252\n",
      "             other_aid       0.63      0.04      0.07       654\n",
      "infrastructure_related       0.50      0.01      0.01       342\n",
      "             transport       0.82      0.13      0.22       239\n",
      "             buildings       0.76      0.13      0.22       262\n",
      "           electricity       0.80      0.07      0.14       107\n",
      "                 tools       0.00      0.00      0.00        42\n",
      "             hospitals       0.00      0.00      0.00        54\n",
      "                 shops       0.00      0.00      0.00        24\n",
      "           aid_centers       0.00      0.00      0.00        57\n",
      "  other_infrastructure       0.33      0.00      0.01       233\n",
      "       weather_related       0.87      0.71      0.78      1471\n",
      "                floods       0.94      0.48      0.64       430\n",
      "                 storm       0.78      0.49      0.60       498\n",
      "                  fire       0.50      0.02      0.03        63\n",
      "            earthquake       0.91      0.79      0.85       489\n",
      "                  cold       0.64      0.08      0.15       106\n",
      "         other_weather       0.53      0.03      0.05       281\n",
      "         direct_report       0.80      0.38      0.51       999\n",
      "\n",
      "             micro avg       0.82      0.54      0.65     16597\n",
      "             macro avg       0.59      0.22      0.27     16597\n",
      "          weighted avg       0.77      0.54      0.58     16597\n",
      "           samples avg       0.67      0.49      0.52     16597\n",
      "\n"
     ]
    },
    {
     "name": "stderr",
     "output_type": "stream",
     "text": [
      "c:\\users\\embouchero\\appdata\\local\\programs\\python\\python38\\lib\\site-packages\\sklearn\\metrics\\_classification.py:1221: UndefinedMetricWarning: Precision and F-score are ill-defined and being set to 0.0 in labels with no predicted samples. Use `zero_division` parameter to control this behavior.\n",
      "  _warn_prf(average, modifier, msg_start, len(result))\n",
      "c:\\users\\embouchero\\appdata\\local\\programs\\python\\python38\\lib\\site-packages\\sklearn\\metrics\\_classification.py:1221: UndefinedMetricWarning: Precision and F-score are ill-defined and being set to 0.0 in samples with no predicted labels. Use `zero_division` parameter to control this behavior.\n",
      "  _warn_prf(average, modifier, msg_start, len(result))\n",
      "c:\\users\\embouchero\\appdata\\local\\programs\\python\\python38\\lib\\site-packages\\sklearn\\metrics\\_classification.py:1221: UndefinedMetricWarning: Recall and F-score are ill-defined and being set to 0.0 in samples with no true labels. Use `zero_division` parameter to control this behavior.\n",
      "  _warn_prf(average, modifier, msg_start, len(result))\n"
     ]
    }
   ],
   "source": [
    "print(classification_report(y_test, y_pred, target_names=df.columns.to_list()[2:]))"
   ]
  },
  {
   "cell_type": "code",
   "execution_count": 33,
   "metadata": {},
   "outputs": [],
   "source": [
    "pickle.dump(pipeline, open('rf_model.pkl', 'wb'))"
   ]
  },
  {
   "cell_type": "code",
   "execution_count": null,
   "metadata": {},
   "outputs": [],
   "source": []
  },
  {
   "cell_type": "markdown",
   "metadata": {},
   "source": [
    "#### Now let's try a neural network"
   ]
  },
  {
   "cell_type": "code",
   "execution_count": 43,
   "metadata": {},
   "outputs": [],
   "source": [
    "from sklearn.neural_network import MLPClassifier"
   ]
  },
  {
   "cell_type": "code",
   "execution_count": 44,
   "metadata": {},
   "outputs": [],
   "source": [
    "nn = MLPClassifier(solver='lbfgs', alpha=1e-5, hidden_layer_sizes=(150, 10), random_state=1)\n",
    "\n",
    "pipeline = Pipeline([\n",
    "    ('tfidf', TfidfVectorizer(tokenizer=tokenize)),\n",
    "    ('clf', MultiOutputClassifier(nn))\n",
    "])"
   ]
  },
  {
   "cell_type": "code",
   "execution_count": 45,
   "metadata": {
    "scrolled": true
   },
   "outputs": [
    {
     "name": "stderr",
     "output_type": "stream",
     "text": [
      "c:\\users\\embouchero\\appdata\\local\\programs\\python\\python38\\lib\\site-packages\\sklearn\\neural_network\\_multilayer_perceptron.py:471: ConvergenceWarning: lbfgs failed to converge (status=1):\n",
      "STOP: TOTAL NO. of ITERATIONS REACHED LIMIT.\n",
      "\n",
      "Increase the number of iterations (max_iter) or scale the data as shown in:\n",
      "    https://scikit-learn.org/stable/modules/preprocessing.html\n",
      "  self.n_iter_ = _check_optimize_result(\"lbfgs\", opt_res, self.max_iter)\n",
      "c:\\users\\embouchero\\appdata\\local\\programs\\python\\python38\\lib\\site-packages\\sklearn\\neural_network\\_multilayer_perceptron.py:471: ConvergenceWarning: lbfgs failed to converge (status=1):\n",
      "STOP: TOTAL NO. of ITERATIONS REACHED LIMIT.\n",
      "\n",
      "Increase the number of iterations (max_iter) or scale the data as shown in:\n",
      "    https://scikit-learn.org/stable/modules/preprocessing.html\n",
      "  self.n_iter_ = _check_optimize_result(\"lbfgs\", opt_res, self.max_iter)\n",
      "c:\\users\\embouchero\\appdata\\local\\programs\\python\\python38\\lib\\site-packages\\sklearn\\neural_network\\_multilayer_perceptron.py:471: ConvergenceWarning: lbfgs failed to converge (status=1):\n",
      "STOP: TOTAL NO. of ITERATIONS REACHED LIMIT.\n",
      "\n",
      "Increase the number of iterations (max_iter) or scale the data as shown in:\n",
      "    https://scikit-learn.org/stable/modules/preprocessing.html\n",
      "  self.n_iter_ = _check_optimize_result(\"lbfgs\", opt_res, self.max_iter)\n",
      "c:\\users\\embouchero\\appdata\\local\\programs\\python\\python38\\lib\\site-packages\\sklearn\\neural_network\\_multilayer_perceptron.py:471: ConvergenceWarning: lbfgs failed to converge (status=1):\n",
      "STOP: TOTAL NO. of ITERATIONS REACHED LIMIT.\n",
      "\n",
      "Increase the number of iterations (max_iter) or scale the data as shown in:\n",
      "    https://scikit-learn.org/stable/modules/preprocessing.html\n",
      "  self.n_iter_ = _check_optimize_result(\"lbfgs\", opt_res, self.max_iter)\n",
      "c:\\users\\embouchero\\appdata\\local\\programs\\python\\python38\\lib\\site-packages\\sklearn\\neural_network\\_multilayer_perceptron.py:471: ConvergenceWarning: lbfgs failed to converge (status=1):\n",
      "STOP: TOTAL NO. of ITERATIONS REACHED LIMIT.\n",
      "\n",
      "Increase the number of iterations (max_iter) or scale the data as shown in:\n",
      "    https://scikit-learn.org/stable/modules/preprocessing.html\n",
      "  self.n_iter_ = _check_optimize_result(\"lbfgs\", opt_res, self.max_iter)\n",
      "c:\\users\\embouchero\\appdata\\local\\programs\\python\\python38\\lib\\site-packages\\sklearn\\neural_network\\_multilayer_perceptron.py:471: ConvergenceWarning: lbfgs failed to converge (status=1):\n",
      "STOP: TOTAL NO. of ITERATIONS REACHED LIMIT.\n",
      "\n",
      "Increase the number of iterations (max_iter) or scale the data as shown in:\n",
      "    https://scikit-learn.org/stable/modules/preprocessing.html\n",
      "  self.n_iter_ = _check_optimize_result(\"lbfgs\", opt_res, self.max_iter)\n",
      "c:\\users\\embouchero\\appdata\\local\\programs\\python\\python38\\lib\\site-packages\\sklearn\\neural_network\\_multilayer_perceptron.py:471: ConvergenceWarning: lbfgs failed to converge (status=1):\n",
      "STOP: TOTAL NO. of ITERATIONS REACHED LIMIT.\n",
      "\n",
      "Increase the number of iterations (max_iter) or scale the data as shown in:\n",
      "    https://scikit-learn.org/stable/modules/preprocessing.html\n",
      "  self.n_iter_ = _check_optimize_result(\"lbfgs\", opt_res, self.max_iter)\n",
      "c:\\users\\embouchero\\appdata\\local\\programs\\python\\python38\\lib\\site-packages\\sklearn\\neural_network\\_multilayer_perceptron.py:471: ConvergenceWarning: lbfgs failed to converge (status=1):\n",
      "STOP: TOTAL NO. of ITERATIONS REACHED LIMIT.\n",
      "\n",
      "Increase the number of iterations (max_iter) or scale the data as shown in:\n",
      "    https://scikit-learn.org/stable/modules/preprocessing.html\n",
      "  self.n_iter_ = _check_optimize_result(\"lbfgs\", opt_res, self.max_iter)\n",
      "c:\\users\\embouchero\\appdata\\local\\programs\\python\\python38\\lib\\site-packages\\sklearn\\neural_network\\_multilayer_perceptron.py:471: ConvergenceWarning: lbfgs failed to converge (status=1):\n",
      "STOP: TOTAL NO. of ITERATIONS REACHED LIMIT.\n",
      "\n",
      "Increase the number of iterations (max_iter) or scale the data as shown in:\n",
      "    https://scikit-learn.org/stable/modules/preprocessing.html\n",
      "  self.n_iter_ = _check_optimize_result(\"lbfgs\", opt_res, self.max_iter)\n",
      "c:\\users\\embouchero\\appdata\\local\\programs\\python\\python38\\lib\\site-packages\\sklearn\\neural_network\\_multilayer_perceptron.py:471: ConvergenceWarning: lbfgs failed to converge (status=1):\n",
      "STOP: TOTAL NO. of ITERATIONS REACHED LIMIT.\n",
      "\n",
      "Increase the number of iterations (max_iter) or scale the data as shown in:\n",
      "    https://scikit-learn.org/stable/modules/preprocessing.html\n",
      "  self.n_iter_ = _check_optimize_result(\"lbfgs\", opt_res, self.max_iter)\n",
      "c:\\users\\embouchero\\appdata\\local\\programs\\python\\python38\\lib\\site-packages\\sklearn\\neural_network\\_multilayer_perceptron.py:471: ConvergenceWarning: lbfgs failed to converge (status=1):\n",
      "STOP: TOTAL NO. of ITERATIONS REACHED LIMIT.\n",
      "\n",
      "Increase the number of iterations (max_iter) or scale the data as shown in:\n",
      "    https://scikit-learn.org/stable/modules/preprocessing.html\n",
      "  self.n_iter_ = _check_optimize_result(\"lbfgs\", opt_res, self.max_iter)\n"
     ]
    },
    {
     "name": "stdout",
     "output_type": "stream",
     "text": [
      "Wall time: 1h 3min 11s\n"
     ]
    },
    {
     "name": "stderr",
     "output_type": "stream",
     "text": [
      "c:\\users\\embouchero\\appdata\\local\\programs\\python\\python38\\lib\\site-packages\\sklearn\\neural_network\\_multilayer_perceptron.py:471: ConvergenceWarning: lbfgs failed to converge (status=1):\n",
      "STOP: TOTAL NO. of ITERATIONS REACHED LIMIT.\n",
      "\n",
      "Increase the number of iterations (max_iter) or scale the data as shown in:\n",
      "    https://scikit-learn.org/stable/modules/preprocessing.html\n",
      "  self.n_iter_ = _check_optimize_result(\"lbfgs\", opt_res, self.max_iter)\n"
     ]
    },
    {
     "data": {
      "text/plain": [
       "Pipeline(steps=[('tfidf',\n",
       "                 TfidfVectorizer(tokenizer=<function tokenize at 0x000001C96F8980D0>)),\n",
       "                ('clf',\n",
       "                 MultiOutputClassifier(estimator=MLPClassifier(alpha=1e-05,\n",
       "                                                               hidden_layer_sizes=(150,\n",
       "                                                                                   10),\n",
       "                                                               random_state=1,\n",
       "                                                               solver='lbfgs')))])"
      ]
     },
     "execution_count": 45,
     "metadata": {},
     "output_type": "execute_result"
    }
   ],
   "source": [
    "%%time\n",
    "pipeline.fit(X_train, y_train)"
   ]
  },
  {
   "cell_type": "code",
   "execution_count": 46,
   "metadata": {},
   "outputs": [
    {
     "name": "stdout",
     "output_type": "stream",
     "text": [
      "Wall time: 4.31 s\n"
     ]
    }
   ],
   "source": [
    "%%time\n",
    "y_pred = pipeline.predict(X_test)"
   ]
  },
  {
   "cell_type": "code",
   "execution_count": 47,
   "metadata": {},
   "outputs": [
    {
     "name": "stdout",
     "output_type": "stream",
     "text": [
      "                        precision    recall  f1-score   support\n",
      "\n",
      "               related       0.85      0.87      0.86      4002\n",
      "               request       0.58      0.58      0.58       879\n",
      "                 offer       0.25      0.04      0.07        26\n",
      "           aid_related       0.68      0.69      0.68      2177\n",
      "          medical_help       0.39      0.36      0.38       405\n",
      "      medical_products       0.40      0.28      0.33       264\n",
      "     search_and_rescue       0.28      0.20      0.23       137\n",
      "              security       0.08      0.03      0.04        98\n",
      "              military       0.51      0.36      0.42       185\n",
      "                 water       0.63      0.65      0.64       315\n",
      "                  food       0.73      0.67      0.70       596\n",
      "               shelter       0.61      0.55      0.58       472\n",
      "              clothing       0.63      0.50      0.56        74\n",
      "                 money       0.45      0.26      0.33       127\n",
      "        missing_people       0.22      0.09      0.13        65\n",
      "              refugees       0.43      0.26      0.32       172\n",
      "                 death       0.58      0.48      0.52       252\n",
      "             other_aid       0.34      0.31      0.32       654\n",
      "infrastructure_related       0.23      0.20      0.21       342\n",
      "             transport       0.35      0.26      0.30       239\n",
      "             buildings       0.51      0.38      0.44       262\n",
      "           electricity       0.52      0.29      0.37       107\n",
      "                 tools       0.00      0.00      0.00        42\n",
      "             hospitals       0.26      0.13      0.17        54\n",
      "                 shops       0.00      0.00      0.00        24\n",
      "           aid_centers       0.36      0.07      0.12        57\n",
      "  other_infrastructure       0.23      0.19      0.21       233\n",
      "       weather_related       0.77      0.76      0.76      1471\n",
      "                floods       0.62      0.51      0.56       430\n",
      "                 storm       0.69      0.66      0.67       498\n",
      "                  fire       0.61      0.37      0.46        63\n",
      "            earthquake       0.85      0.81      0.83       489\n",
      "                  cold       0.47      0.33      0.39       106\n",
      "         other_weather       0.28      0.20      0.23       281\n",
      "         direct_report       0.55      0.52      0.53       999\n",
      "\n",
      "             micro avg       0.66      0.61      0.63     16597\n",
      "             macro avg       0.46      0.37      0.40     16597\n",
      "          weighted avg       0.64      0.61      0.62     16597\n",
      "           samples avg       0.53      0.50      0.47     16597\n",
      "\n"
     ]
    },
    {
     "name": "stderr",
     "output_type": "stream",
     "text": [
      "c:\\users\\embouchero\\appdata\\local\\programs\\python\\python38\\lib\\site-packages\\sklearn\\metrics\\_classification.py:1221: UndefinedMetricWarning: Precision and F-score are ill-defined and being set to 0.0 in labels with no predicted samples. Use `zero_division` parameter to control this behavior.\n",
      "  _warn_prf(average, modifier, msg_start, len(result))\n",
      "c:\\users\\embouchero\\appdata\\local\\programs\\python\\python38\\lib\\site-packages\\sklearn\\metrics\\_classification.py:1221: UndefinedMetricWarning: Precision and F-score are ill-defined and being set to 0.0 in samples with no predicted labels. Use `zero_division` parameter to control this behavior.\n",
      "  _warn_prf(average, modifier, msg_start, len(result))\n",
      "c:\\users\\embouchero\\appdata\\local\\programs\\python\\python38\\lib\\site-packages\\sklearn\\metrics\\_classification.py:1221: UndefinedMetricWarning: Recall and F-score are ill-defined and being set to 0.0 in samples with no true labels. Use `zero_division` parameter to control this behavior.\n",
      "  _warn_prf(average, modifier, msg_start, len(result))\n"
     ]
    }
   ],
   "source": [
    "print(classification_report(y_test, y_pred, target_names=df.columns.to_list()[2:]))"
   ]
  },
  {
   "cell_type": "code",
   "execution_count": 48,
   "metadata": {},
   "outputs": [],
   "source": [
    "pickle.dump(pipeline, open('nn_model.pkl', 'wb'))"
   ]
  },
  {
   "cell_type": "markdown",
   "metadata": {},
   "source": [
    "### 6. Improve your model\n",
    "Use grid search to find better parameters. "
   ]
  },
  {
   "cell_type": "markdown",
   "metadata": {},
   "source": [
    "#### Okay, now let's try tuning the xgbrf model since it appears to be the most efficient"
   ]
  },
  {
   "cell_type": "code",
   "execution_count": 57,
   "metadata": {},
   "outputs": [],
   "source": [
    "pipeline = Pipeline([\n",
    "    ('tfidf', TfidfVectorizer(tokenizer=tokenize)),\n",
    "    ('clf', MultiOutputClassifier(XGBRFClassifier(use_label_encoder=False, verbosity=0)))\n",
    "])\n",
    "\n",
    "parameters = {\n",
    "    'tfidf__ngram_range': ((1, 1),(1, 2)),\n",
    "    'tfidf__max_features': (5000,10000),\n",
    "    'clf__estimator__learning_rate': (0.01, 0.1),\n",
    " }\n",
    "\n",
    "cv = GridSearchCV(pipeline, param_grid=parameters, verbose=2)"
   ]
  },
  {
   "cell_type": "code",
   "execution_count": 56,
   "metadata": {},
   "outputs": [
    {
     "data": {
      "text/plain": [
       "{'colsample_bynode': 0.8,\n",
       " 'learning_rate': 1.0,\n",
       " 'reg_lambda': 1e-05,\n",
       " 'subsample': 0.8,\n",
       " 'objective': 'binary:logistic',\n",
       " 'base_score': None,\n",
       " 'booster': None,\n",
       " 'colsample_bylevel': None,\n",
       " 'colsample_bytree': None,\n",
       " 'gamma': None,\n",
       " 'gpu_id': None,\n",
       " 'interaction_constraints': None,\n",
       " 'max_delta_step': None,\n",
       " 'max_depth': None,\n",
       " 'min_child_weight': None,\n",
       " 'monotone_constraints': None,\n",
       " 'n_jobs': None,\n",
       " 'num_parallel_tree': 100,\n",
       " 'predictor': None,\n",
       " 'random_state': None,\n",
       " 'reg_alpha': None,\n",
       " 'scale_pos_weight': None,\n",
       " 'tree_method': None,\n",
       " 'validate_parameters': None,\n",
       " 'verbosity': None}"
      ]
     },
     "execution_count": 56,
     "metadata": {},
     "output_type": "execute_result"
    }
   ],
   "source": [
    "XGBRFClassifier().get_xgb_params()"
   ]
  },
  {
   "cell_type": "code",
   "execution_count": 58,
   "metadata": {},
   "outputs": [
    {
     "name": "stdout",
     "output_type": "stream",
     "text": [
      "Fitting 5 folds for each of 8 candidates, totalling 40 fits\n",
      "[CV] clf__estimator__learning_rate=0.01, tfidf__max_features=5000, tfidf__ngram_range=(1, 1) \n"
     ]
    },
    {
     "name": "stderr",
     "output_type": "stream",
     "text": [
      "[Parallel(n_jobs=1)]: Using backend SequentialBackend with 1 concurrent workers.\n"
     ]
    },
    {
     "name": "stdout",
     "output_type": "stream",
     "text": [
      "[CV]  clf__estimator__learning_rate=0.01, tfidf__max_features=5000, tfidf__ngram_range=(1, 1), total= 1.8min\n",
      "[CV] clf__estimator__learning_rate=0.01, tfidf__max_features=5000, tfidf__ngram_range=(1, 1) \n"
     ]
    },
    {
     "name": "stderr",
     "output_type": "stream",
     "text": [
      "[Parallel(n_jobs=1)]: Done   1 out of   1 | elapsed:  1.8min remaining:    0.0s\n"
     ]
    },
    {
     "name": "stdout",
     "output_type": "stream",
     "text": [
      "[CV]  clf__estimator__learning_rate=0.01, tfidf__max_features=5000, tfidf__ngram_range=(1, 1), total= 1.8min\n",
      "[CV] clf__estimator__learning_rate=0.01, tfidf__max_features=5000, tfidf__ngram_range=(1, 1) \n",
      "[CV]  clf__estimator__learning_rate=0.01, tfidf__max_features=5000, tfidf__ngram_range=(1, 1), total= 1.9min\n",
      "[CV] clf__estimator__learning_rate=0.01, tfidf__max_features=5000, tfidf__ngram_range=(1, 1) \n",
      "[CV]  clf__estimator__learning_rate=0.01, tfidf__max_features=5000, tfidf__ngram_range=(1, 1), total= 1.8min\n",
      "[CV] clf__estimator__learning_rate=0.01, tfidf__max_features=5000, tfidf__ngram_range=(1, 1) \n",
      "[CV]  clf__estimator__learning_rate=0.01, tfidf__max_features=5000, tfidf__ngram_range=(1, 1), total= 1.9min\n",
      "[CV] clf__estimator__learning_rate=0.01, tfidf__max_features=5000, tfidf__ngram_range=(1, 2) \n",
      "[CV]  clf__estimator__learning_rate=0.01, tfidf__max_features=5000, tfidf__ngram_range=(1, 2), total= 1.9min\n",
      "[CV] clf__estimator__learning_rate=0.01, tfidf__max_features=5000, tfidf__ngram_range=(1, 2) \n",
      "[CV]  clf__estimator__learning_rate=0.01, tfidf__max_features=5000, tfidf__ngram_range=(1, 2), total= 1.9min\n",
      "[CV] clf__estimator__learning_rate=0.01, tfidf__max_features=5000, tfidf__ngram_range=(1, 2) \n",
      "[CV]  clf__estimator__learning_rate=0.01, tfidf__max_features=5000, tfidf__ngram_range=(1, 2), total= 1.9min\n",
      "[CV] clf__estimator__learning_rate=0.01, tfidf__max_features=5000, tfidf__ngram_range=(1, 2) \n",
      "[CV]  clf__estimator__learning_rate=0.01, tfidf__max_features=5000, tfidf__ngram_range=(1, 2), total= 1.9min\n",
      "[CV] clf__estimator__learning_rate=0.01, tfidf__max_features=5000, tfidf__ngram_range=(1, 2) \n",
      "[CV]  clf__estimator__learning_rate=0.01, tfidf__max_features=5000, tfidf__ngram_range=(1, 2), total=17.5min\n",
      "[CV] clf__estimator__learning_rate=0.01, tfidf__max_features=10000, tfidf__ngram_range=(1, 1) \n",
      "[CV]  clf__estimator__learning_rate=0.01, tfidf__max_features=10000, tfidf__ngram_range=(1, 1), total= 2.3min\n",
      "[CV] clf__estimator__learning_rate=0.01, tfidf__max_features=10000, tfidf__ngram_range=(1, 1) \n",
      "[CV]  clf__estimator__learning_rate=0.01, tfidf__max_features=10000, tfidf__ngram_range=(1, 1), total= 2.3min\n",
      "[CV] clf__estimator__learning_rate=0.01, tfidf__max_features=10000, tfidf__ngram_range=(1, 1) \n",
      "[CV]  clf__estimator__learning_rate=0.01, tfidf__max_features=10000, tfidf__ngram_range=(1, 1), total= 2.3min\n",
      "[CV] clf__estimator__learning_rate=0.01, tfidf__max_features=10000, tfidf__ngram_range=(1, 1) \n",
      "[CV]  clf__estimator__learning_rate=0.01, tfidf__max_features=10000, tfidf__ngram_range=(1, 1), total= 2.3min\n",
      "[CV] clf__estimator__learning_rate=0.01, tfidf__max_features=10000, tfidf__ngram_range=(1, 1) \n",
      "[CV]  clf__estimator__learning_rate=0.01, tfidf__max_features=10000, tfidf__ngram_range=(1, 1), total= 5.2min\n",
      "[CV] clf__estimator__learning_rate=0.01, tfidf__max_features=10000, tfidf__ngram_range=(1, 2) \n",
      "[CV]  clf__estimator__learning_rate=0.01, tfidf__max_features=10000, tfidf__ngram_range=(1, 2), total= 2.4min\n",
      "[CV] clf__estimator__learning_rate=0.01, tfidf__max_features=10000, tfidf__ngram_range=(1, 2) \n",
      "[CV]  clf__estimator__learning_rate=0.01, tfidf__max_features=10000, tfidf__ngram_range=(1, 2), total= 2.4min\n",
      "[CV] clf__estimator__learning_rate=0.01, tfidf__max_features=10000, tfidf__ngram_range=(1, 2) \n",
      "[CV]  clf__estimator__learning_rate=0.01, tfidf__max_features=10000, tfidf__ngram_range=(1, 2), total= 2.4min\n",
      "[CV] clf__estimator__learning_rate=0.01, tfidf__max_features=10000, tfidf__ngram_range=(1, 2) \n",
      "[CV]  clf__estimator__learning_rate=0.01, tfidf__max_features=10000, tfidf__ngram_range=(1, 2), total= 2.4min\n",
      "[CV] clf__estimator__learning_rate=0.01, tfidf__max_features=10000, tfidf__ngram_range=(1, 2) \n",
      "[CV]  clf__estimator__learning_rate=0.01, tfidf__max_features=10000, tfidf__ngram_range=(1, 2), total=13.7min\n",
      "[CV] clf__estimator__learning_rate=0.1, tfidf__max_features=5000, tfidf__ngram_range=(1, 1) \n",
      "[CV]  clf__estimator__learning_rate=0.1, tfidf__max_features=5000, tfidf__ngram_range=(1, 1), total= 1.8min\n",
      "[CV] clf__estimator__learning_rate=0.1, tfidf__max_features=5000, tfidf__ngram_range=(1, 1) \n",
      "[CV]  clf__estimator__learning_rate=0.1, tfidf__max_features=5000, tfidf__ngram_range=(1, 1), total= 1.9min\n",
      "[CV] clf__estimator__learning_rate=0.1, tfidf__max_features=5000, tfidf__ngram_range=(1, 1) \n",
      "[CV]  clf__estimator__learning_rate=0.1, tfidf__max_features=5000, tfidf__ngram_range=(1, 1), total= 1.9min\n",
      "[CV] clf__estimator__learning_rate=0.1, tfidf__max_features=5000, tfidf__ngram_range=(1, 1) \n",
      "[CV]  clf__estimator__learning_rate=0.1, tfidf__max_features=5000, tfidf__ngram_range=(1, 1), total= 1.8min\n",
      "[CV] clf__estimator__learning_rate=0.1, tfidf__max_features=5000, tfidf__ngram_range=(1, 1) \n",
      "[CV]  clf__estimator__learning_rate=0.1, tfidf__max_features=5000, tfidf__ngram_range=(1, 1), total= 1.9min\n",
      "[CV] clf__estimator__learning_rate=0.1, tfidf__max_features=5000, tfidf__ngram_range=(1, 2) \n",
      "[CV]  clf__estimator__learning_rate=0.1, tfidf__max_features=5000, tfidf__ngram_range=(1, 2), total= 1.9min\n",
      "[CV] clf__estimator__learning_rate=0.1, tfidf__max_features=5000, tfidf__ngram_range=(1, 2) \n",
      "[CV]  clf__estimator__learning_rate=0.1, tfidf__max_features=5000, tfidf__ngram_range=(1, 2), total= 1.9min\n",
      "[CV] clf__estimator__learning_rate=0.1, tfidf__max_features=5000, tfidf__ngram_range=(1, 2) \n",
      "[CV]  clf__estimator__learning_rate=0.1, tfidf__max_features=5000, tfidf__ngram_range=(1, 2), total= 1.9min\n",
      "[CV] clf__estimator__learning_rate=0.1, tfidf__max_features=5000, tfidf__ngram_range=(1, 2) \n",
      "[CV]  clf__estimator__learning_rate=0.1, tfidf__max_features=5000, tfidf__ngram_range=(1, 2), total= 1.9min\n",
      "[CV] clf__estimator__learning_rate=0.1, tfidf__max_features=5000, tfidf__ngram_range=(1, 2) \n",
      "[CV]  clf__estimator__learning_rate=0.1, tfidf__max_features=5000, tfidf__ngram_range=(1, 2), total= 1.9min\n",
      "[CV] clf__estimator__learning_rate=0.1, tfidf__max_features=10000, tfidf__ngram_range=(1, 1) \n",
      "[CV]  clf__estimator__learning_rate=0.1, tfidf__max_features=10000, tfidf__ngram_range=(1, 1), total= 2.3min\n",
      "[CV] clf__estimator__learning_rate=0.1, tfidf__max_features=10000, tfidf__ngram_range=(1, 1) \n",
      "[CV]  clf__estimator__learning_rate=0.1, tfidf__max_features=10000, tfidf__ngram_range=(1, 1), total= 2.3min\n",
      "[CV] clf__estimator__learning_rate=0.1, tfidf__max_features=10000, tfidf__ngram_range=(1, 1) \n",
      "[CV]  clf__estimator__learning_rate=0.1, tfidf__max_features=10000, tfidf__ngram_range=(1, 1), total= 2.3min\n",
      "[CV] clf__estimator__learning_rate=0.1, tfidf__max_features=10000, tfidf__ngram_range=(1, 1) \n",
      "[CV]  clf__estimator__learning_rate=0.1, tfidf__max_features=10000, tfidf__ngram_range=(1, 1), total= 2.3min\n",
      "[CV] clf__estimator__learning_rate=0.1, tfidf__max_features=10000, tfidf__ngram_range=(1, 1) \n",
      "[CV]  clf__estimator__learning_rate=0.1, tfidf__max_features=10000, tfidf__ngram_range=(1, 1), total= 2.3min\n",
      "[CV] clf__estimator__learning_rate=0.1, tfidf__max_features=10000, tfidf__ngram_range=(1, 2) \n",
      "[CV]  clf__estimator__learning_rate=0.1, tfidf__max_features=10000, tfidf__ngram_range=(1, 2), total= 2.4min\n",
      "[CV] clf__estimator__learning_rate=0.1, tfidf__max_features=10000, tfidf__ngram_range=(1, 2) \n",
      "[CV]  clf__estimator__learning_rate=0.1, tfidf__max_features=10000, tfidf__ngram_range=(1, 2), total= 2.4min\n",
      "[CV] clf__estimator__learning_rate=0.1, tfidf__max_features=10000, tfidf__ngram_range=(1, 2) \n",
      "[CV]  clf__estimator__learning_rate=0.1, tfidf__max_features=10000, tfidf__ngram_range=(1, 2), total= 2.4min\n",
      "[CV] clf__estimator__learning_rate=0.1, tfidf__max_features=10000, tfidf__ngram_range=(1, 2) \n",
      "[CV]  clf__estimator__learning_rate=0.1, tfidf__max_features=10000, tfidf__ngram_range=(1, 2), total= 2.4min\n",
      "[CV] clf__estimator__learning_rate=0.1, tfidf__max_features=10000, tfidf__ngram_range=(1, 2) \n",
      "[CV]  clf__estimator__learning_rate=0.1, tfidf__max_features=10000, tfidf__ngram_range=(1, 2), total= 2.4min\n"
     ]
    },
    {
     "name": "stderr",
     "output_type": "stream",
     "text": [
      "[Parallel(n_jobs=1)]: Done  40 out of  40 | elapsed: 114.4min finished\n"
     ]
    },
    {
     "name": "stdout",
     "output_type": "stream",
     "text": [
      "Wall time: 1h 57min 9s\n"
     ]
    },
    {
     "data": {
      "text/plain": [
       "GridSearchCV(estimator=Pipeline(steps=[('tfidf',\n",
       "                                        TfidfVectorizer(tokenizer=<function tokenize at 0x000001C96F8980D0>)),\n",
       "                                       ('clf',\n",
       "                                        MultiOutputClassifier(estimator=XGBRFClassifier(base_score=None,\n",
       "                                                                                        booster=None,\n",
       "                                                                                        colsample_bylevel=None,\n",
       "                                                                                        colsample_bytree=None,\n",
       "                                                                                        enable_categorical=False,\n",
       "                                                                                        gamma=None,\n",
       "                                                                                        gpu_id=None,\n",
       "                                                                                        importance_type=None,\n",
       "                                                                                        interaction_constraints=None,\n",
       "                                                                                        max_delt...\n",
       "                                                                                        n_jobs=None,\n",
       "                                                                                        num_parallel_tree=None,\n",
       "                                                                                        objective='binary:logistic',\n",
       "                                                                                        predictor=None,\n",
       "                                                                                        random_state=None,\n",
       "                                                                                        reg_alpha=None,\n",
       "                                                                                        scale_pos_weight=None,\n",
       "                                                                                        tree_method=None,\n",
       "                                                                                        use_label_encoder=False,\n",
       "                                                                                        validate_parameters=None,\n",
       "                                                                                        verbosity=0)))]),\n",
       "             param_grid={'clf__estimator__learning_rate': (0.01, 0.1),\n",
       "                         'tfidf__max_features': (5000, 10000),\n",
       "                         'tfidf__ngram_range': ((1, 1), (1, 2))},\n",
       "             verbose=2)"
      ]
     },
     "execution_count": 58,
     "metadata": {},
     "output_type": "execute_result"
    }
   ],
   "source": [
    "%%time\n",
    "cv.fit(X_train, y_train)"
   ]
  },
  {
   "cell_type": "code",
   "execution_count": 110,
   "metadata": {},
   "outputs": [
    {
     "data": {
      "text/plain": [
       "{'clf__estimator__learning_rate': 0.01,\n",
       " 'tfidf__max_features': 10000,\n",
       " 'tfidf__ngram_range': (1, 2)}"
      ]
     },
     "execution_count": 110,
     "metadata": {},
     "output_type": "execute_result"
    }
   ],
   "source": [
    "cv.best_params_"
   ]
  },
  {
   "cell_type": "markdown",
   "metadata": {},
   "source": [
    "### 7. Test your model\n",
    "Show the accuracy, precision, and recall of the tuned model.  \n",
    "\n",
    "Since this project focuses on code quality, process, and  pipelines, there is no minimum performance metric needed to pass. However, make sure to fine tune your models for accuracy, precision and recall to make your project stand out - especially for your portfolio!"
   ]
  },
  {
   "cell_type": "code",
   "execution_count": 62,
   "metadata": {},
   "outputs": [
    {
     "name": "stdout",
     "output_type": "stream",
     "text": [
      "Wall time: 3.23 s\n"
     ]
    }
   ],
   "source": [
    "%%time\n",
    "y_pred = cv.predict(X_test)"
   ]
  },
  {
   "cell_type": "code",
   "execution_count": 63,
   "metadata": {},
   "outputs": [
    {
     "name": "stdout",
     "output_type": "stream",
     "text": [
      "                        precision    recall  f1-score   support\n",
      "\n",
      "               related       0.79      0.98      0.87      4002\n",
      "               request       0.82      0.44      0.57       879\n",
      "                 offer       0.00      0.00      0.00        26\n",
      "           aid_related       0.72      0.50      0.59      2177\n",
      "          medical_help       0.59      0.14      0.23       405\n",
      "      medical_products       0.82      0.30      0.43       264\n",
      "     search_and_rescue       0.63      0.21      0.32       137\n",
      "              security       1.00      0.03      0.06        98\n",
      "              military       0.59      0.17      0.27       185\n",
      "                 water       0.75      0.55      0.64       315\n",
      "                  food       0.77      0.78      0.77       596\n",
      "               shelter       0.80      0.54      0.65       472\n",
      "              clothing       0.74      0.62      0.68        74\n",
      "                 money       0.62      0.24      0.34       127\n",
      "        missing_people       0.62      0.23      0.34        65\n",
      "              refugees       0.58      0.24      0.34       172\n",
      "                 death       0.70      0.59      0.64       252\n",
      "             other_aid       0.65      0.11      0.19       654\n",
      "infrastructure_related       0.53      0.05      0.09       342\n",
      "             transport       0.65      0.27      0.38       239\n",
      "             buildings       0.76      0.25      0.37       262\n",
      "           electricity       0.55      0.21      0.30       107\n",
      "                 tools       0.50      0.05      0.09        42\n",
      "             hospitals       0.50      0.13      0.21        54\n",
      "                 shops       0.00      0.00      0.00        24\n",
      "           aid_centers       0.50      0.05      0.10        57\n",
      "  other_infrastructure       0.45      0.02      0.04       233\n",
      "       weather_related       0.91      0.53      0.66      1471\n",
      "                floods       0.91      0.57      0.70       430\n",
      "                 storm       0.80      0.58      0.67       498\n",
      "                  fire       0.81      0.27      0.40        63\n",
      "            earthquake       0.92      0.83      0.87       489\n",
      "                  cold       0.68      0.43      0.53       106\n",
      "         other_weather       0.58      0.17      0.26       281\n",
      "         direct_report       0.78      0.30      0.44       999\n",
      "\n",
      "             micro avg       0.78      0.55      0.65     16597\n",
      "             macro avg       0.66      0.33      0.40     16597\n",
      "          weighted avg       0.76      0.55      0.60     16597\n",
      "           samples avg       0.68      0.50      0.53     16597\n",
      "\n"
     ]
    },
    {
     "name": "stderr",
     "output_type": "stream",
     "text": [
      "c:\\users\\embouchero\\appdata\\local\\programs\\python\\python38\\lib\\site-packages\\sklearn\\metrics\\_classification.py:1221: UndefinedMetricWarning: Precision and F-score are ill-defined and being set to 0.0 in labels with no predicted samples. Use `zero_division` parameter to control this behavior.\n",
      "  _warn_prf(average, modifier, msg_start, len(result))\n",
      "c:\\users\\embouchero\\appdata\\local\\programs\\python\\python38\\lib\\site-packages\\sklearn\\metrics\\_classification.py:1221: UndefinedMetricWarning: Precision and F-score are ill-defined and being set to 0.0 in samples with no predicted labels. Use `zero_division` parameter to control this behavior.\n",
      "  _warn_prf(average, modifier, msg_start, len(result))\n",
      "c:\\users\\embouchero\\appdata\\local\\programs\\python\\python38\\lib\\site-packages\\sklearn\\metrics\\_classification.py:1221: UndefinedMetricWarning: Recall and F-score are ill-defined and being set to 0.0 in samples with no true labels. Use `zero_division` parameter to control this behavior.\n",
      "  _warn_prf(average, modifier, msg_start, len(result))\n"
     ]
    }
   ],
   "source": [
    "print(classification_report(y_test, y_pred, target_names=df.columns.to_list()[2:]))"
   ]
  },
  {
   "cell_type": "code",
   "execution_count": 73,
   "metadata": {},
   "outputs": [
    {
     "name": "stdout",
     "output_type": "stream",
     "text": [
      "Accuracy of the model:  0.9452963003383171\n"
     ]
    }
   ],
   "source": [
    "print('Accuracy of the model: ',(y_test == y_pred).mean())"
   ]
  },
  {
   "cell_type": "markdown",
   "metadata": {},
   "source": [
    "#### If we want to see how the classifier does with unseen examples, we provide it a new piece of text to predict labels on:"
   ]
  },
  {
   "cell_type": "code",
   "execution_count": 126,
   "metadata": {},
   "outputs": [
    {
     "name": "stdout",
     "output_type": "stream",
     "text": [
      "If you receive this message, please help as soon as you can because a power line went down during the wind storm and many of us need medical care and we are desparately thirsty\n"
     ]
    },
    {
     "data": {
      "text/plain": [
       "{'related': 1,\n",
       " 'request': 1,\n",
       " 'offer': 0,\n",
       " 'aid_related': 1,\n",
       " 'medical_help': 1,\n",
       " 'medical_products': 0,\n",
       " 'search_and_rescue': 0,\n",
       " 'security': 0,\n",
       " 'military': 0,\n",
       " 'water': 1,\n",
       " 'food': 0,\n",
       " 'shelter': 0,\n",
       " 'clothing': 0,\n",
       " 'money': 0,\n",
       " 'missing_people': 0,\n",
       " 'refugees': 0,\n",
       " 'death': 0,\n",
       " 'other_aid': 0,\n",
       " 'infrastructure_related': 0,\n",
       " 'transport': 0,\n",
       " 'buildings': 0,\n",
       " 'electricity': 1,\n",
       " 'tools': 0,\n",
       " 'hospitals': 0,\n",
       " 'shops': 0,\n",
       " 'aid_centers': 0,\n",
       " 'other_infrastructure': 0,\n",
       " 'weather_related': 1,\n",
       " 'floods': 0,\n",
       " 'storm': 1,\n",
       " 'fire': 0,\n",
       " 'earthquake': 0,\n",
       " 'cold': 0,\n",
       " 'other_weather': 0,\n",
       " 'direct_report': 1}"
      ]
     },
     "execution_count": 126,
     "metadata": {},
     "output_type": "execute_result"
    }
   ],
   "source": [
    "text = input()\n",
    "pred = cv.predict([text])\n",
    "preds = dict(zip(list(df.iloc[:,2:].columns),pred.tolist()[0]))\n",
    "preds"
   ]
  },
  {
   "cell_type": "markdown",
   "metadata": {},
   "source": [
    "### 9. Export your model as a pickle file"
   ]
  },
  {
   "cell_type": "code",
   "execution_count": 80,
   "metadata": {},
   "outputs": [],
   "source": [
    "pickle.dump(cv, open('xgbrf_tuned_model.pkl', 'wb'))"
   ]
  },
  {
   "cell_type": "markdown",
   "metadata": {},
   "source": [
    "### 10. Use this notebook to complete `train.py`\n",
    "Use the template file attached in the Resources folder to write a script that runs the steps above to create a database and export a model based on a new dataset specified by the user."
   ]
  },
  {
   "cell_type": "code",
   "execution_count": null,
   "metadata": {},
   "outputs": [],
   "source": []
  }
 ],
 "metadata": {
  "kernelspec": {
   "display_name": "Python 3",
   "language": "python",
   "name": "python3"
  },
  "language_info": {
   "codemirror_mode": {
    "name": "ipython",
    "version": 3
   },
   "file_extension": ".py",
   "mimetype": "text/x-python",
   "name": "python",
   "nbconvert_exporter": "python",
   "pygments_lexer": "ipython3",
   "version": "3.8.8"
  }
 },
 "nbformat": 4,
 "nbformat_minor": 4
}
